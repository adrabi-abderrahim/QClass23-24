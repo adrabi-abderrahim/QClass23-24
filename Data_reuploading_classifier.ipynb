{
  "cells": [
    {
      "cell_type": "markdown",
      "metadata": {
        "id": "view-in-github",
        "colab_type": "text"
      },
      "source": [
        "<a href=\"https://colab.research.google.com/github/adrabi-abderrahim/QClass23-24/blob/main/Data_reuploading_classifier.ipynb\" target=\"_parent\"><img src=\"https://colab.research.google.com/assets/colab-badge.svg\" alt=\"Open In Colab\"/></a>"
      ]
    },
    {
      "cell_type": "markdown",
      "source": [
        "# Introduction\n",
        "\n",
        "In this notebook we use data re-uploading encoding method to create a Quantum machine learn model in order to classify Iris flowers named Setosa and Versicolor with thier petal and sepal lenghts.\n",
        "\n",
        "To this end, we use a quantum circuit with only `1 qubit` to achieve an accuracy of `100%`.\n",
        "\n",
        "The code is self-explanatory, it follows the classical steps of machine learning:\n",
        "- Data Encoding,\n",
        "- A model definition, and\n",
        "- A training loop.\n",
        "\n",
        "For the optimizer, we choosed Adam with `learning rate = 0.1`, a neural network with `4` nodes and `1` hidden layer.\n",
        "\n",
        "See [Data-reuploading classifier](https://pennylane.ai/qml/demos/tutorial_data_reuploading_classifier/) for more explanation.\n",
        "\n",
        "**To be honest**, I am inspired from the code in [Undergraduate Thesis: Quantum Image Classifier Design with Data Re-uploading Quantum Convolution and Data Re-uploading Classifier Scheme](https://github.com/ericardomuten/quantum_image_classifier) by Eraraya Ricardo Muten."
      ],
      "metadata": {
        "id": "H-XLXNEBBz9c"
      }
    },
    {
      "cell_type": "markdown",
      "source": [
        "*Hoping to meet the Judging criteria, we will give the following details:*\n",
        "\n",
        "- **QML model**\n",
        "\n",
        "  We used a quantum circuit of `1` qubit as a proof of concept that QML \"could\" be better than classical one. In my reasoning, if we can't use less layers and nodes in QML then classical ML. Then, Quantum ML is useless.\n",
        "\n",
        "  Also, it not a matter of numbers of layers and nodes only, but we need models than train faster, cheaper (in the future maybe), and with a near-perfect accuracy.\n",
        "\n",
        "- **Data uploading / encoding method**\n",
        "\n",
        "  Encoding data to quantum qubits is worst than classical counterparty, even in the simulation case. So, **data re-uploading** gives a smart and cheap (i.e in terms of the number of qubits used not the deep the circuit) way to do so, We liked it.\n",
        "\n",
        "- **Cost function**\n",
        "\n",
        "  We only normalize the sum the absolute values of each fidelity minus `1` i.e. $\\sum_{i}^n \\frac{|1-f_i|}{n}$. It is no need to complicate life and lost time on unnecessary  computations. Remember, we want a fast trainig model.\n",
        "\n",
        "- **Optimization method**\n",
        "\n",
        "  Adam optimizer works fine. We noticed that when `stepsize` is bigger the accuracy start jumping from value to another in a rotation like Grover's Algorithm as we studied."
      ],
      "metadata": {
        "id": "m-Iw9jJfSkQq"
      }
    },
    {
      "cell_type": "code",
      "execution_count": 1,
      "metadata": {
        "id": "LBMKRXX_EHWA",
        "colab": {
          "base_uri": "https://localhost:8080/"
        },
        "outputId": "b3d85ecb-0b70-4fdb-f3b5-fb6b1ac6f7df"
      },
      "outputs": [
        {
          "output_type": "stream",
          "name": "stdout",
          "text": [
            "\u001b[2K     \u001b[90m━━━━━━━━━━━━━━━━━━━━━━━━━━━━━━━━━━━━━━━━\u001b[0m \u001b[32m1.6/1.6 MB\u001b[0m \u001b[31m12.0 MB/s\u001b[0m eta \u001b[36m0:00:00\u001b[0m\n",
            "\u001b[2K     \u001b[90m━━━━━━━━━━━━━━━━━━━━━━━━━━━━━━━━━━━━━━━━\u001b[0m \u001b[32m2.1/2.1 MB\u001b[0m \u001b[31m19.4 MB/s\u001b[0m eta \u001b[36m0:00:00\u001b[0m\n",
            "\u001b[2K     \u001b[90m━━━━━━━━━━━━━━━━━━━━━━━━━━━━━━━━━━━━━━━━\u001b[0m \u001b[32m49.8/49.8 kB\u001b[0m \u001b[31m5.1 MB/s\u001b[0m eta \u001b[36m0:00:00\u001b[0m\n",
            "\u001b[2K     \u001b[90m━━━━━━━━━━━━━━━━━━━━━━━━━━━━━━━━━━━━━━━━\u001b[0m \u001b[32m18.5/18.5 MB\u001b[0m \u001b[31m38.9 MB/s\u001b[0m eta \u001b[36m0:00:00\u001b[0m\n",
            "\u001b[?25h"
          ]
        }
      ],
      "source": [
        "!pip install pennylane --upgrade -q"
      ]
    },
    {
      "cell_type": "code",
      "execution_count": 2,
      "metadata": {
        "id": "u9BvSLKtEQVr"
      },
      "outputs": [],
      "source": [
        "import pennylane as qml\n",
        "from pennylane import numpy as np\n",
        "import pennylane.optimize as optz\n",
        "from sklearn import datasets, metrics\n",
        "from sklearn.model_selection import train_test_split\n",
        "from sklearn.utils import gen_batches\n",
        "\n",
        "from IPython.core.display import display, HTML\n",
        "\n",
        "import matplotlib.pyplot as plt"
      ]
    },
    {
      "cell_type": "markdown",
      "metadata": {
        "id": "6MUuqW9le44-"
      },
      "source": [
        "# Loading and preprocessing Iris dataset\n",
        "\n",
        "In this section, we will prepare the dataset for training by removing unnecessary features and classes. Also, we will normalize data and pad it for training."
      ]
    },
    {
      "cell_type": "code",
      "execution_count": 3,
      "metadata": {
        "id": "9Z8fzog1e7N1"
      },
      "outputs": [],
      "source": [
        "# Loading Iris dataset from scikit-lean datasets\n",
        "iris = datasets.load_iris()"
      ]
    },
    {
      "cell_type": "code",
      "execution_count": 4,
      "metadata": {
        "id": "mwjqmtI2fAVB"
      },
      "outputs": [],
      "source": [
        "# Filter dataset to get indeces of Setosa and Versicolour flowers\n",
        "indexes = np.where(iris.target != 2)\n",
        "\n",
        "# Keep features petal and sepal lengths\n",
        "x_data = iris.data[indexes][:, [0, 2]]\n",
        "\n",
        "# Get classes of Setosa and Versicolour flowers\n",
        "y_data = iris.target[indexes]"
      ]
    },
    {
      "cell_type": "code",
      "execution_count": 5,
      "metadata": {
        "id": "xi2dJHm6f_8j"
      },
      "outputs": [],
      "source": [
        "# Noramalize data into the interval [-1 , 1]\n",
        "nearest_ceil = 10**6\n",
        "x_data = np.ceil(nearest_ceil * np.cos(np.pi * x_data, requires_grad=False))/nearest_ceil\n",
        "\n",
        "# Assert the normalization\n",
        "assert x_data.min() >= -1\n",
        "assert x_data.max() <= 1"
      ]
    },
    {
      "cell_type": "code",
      "execution_count": 6,
      "metadata": {
        "id": "7ulB_6wQhZ2e"
      },
      "outputs": [],
      "source": [
        "# Since we have only two features and the paper forces the use of the gate Rotation(a, b, c),\n",
        "# we need to pad the dataset to three element per row.\n",
        "x_data = np.hstack((x_data, np.reshape(y_data, (-1, 1))))\n",
        "\n",
        "# Asset the padding\n",
        "assert x_data.shape == (len(indexes[0]), 3)"
      ]
    },
    {
      "cell_type": "markdown",
      "metadata": {
        "id": "EsKKazqqoTRZ"
      },
      "source": [
        "# Utils\n",
        "\n",
        "A collection of utils for this task."
      ]
    },
    {
      "cell_type": "code",
      "execution_count": 7,
      "metadata": {
        "id": "zXopxXEa8gRt"
      },
      "outputs": [],
      "source": [
        "# Since (the current) quantum computing is just a linear algebra (with some other stuff). So, we encode the targets using one-hot encoding like this:\n",
        "# 0 -> Some hermitian matrix\n",
        "# 1 -> Some hermitian matrix different for the one for the class \"0\"\n",
        "\n",
        "op_target = np.array([\n",
        "    [[1, 0], [0, 0]],\n",
        "    [[0, 0], [0, 1]],\n",
        "    ], requires_grad=False\n",
        ")"
      ]
    },
    {
      "cell_type": "markdown",
      "metadata": {
        "id": "pNdGTwagBeA-"
      },
      "source": [
        "# Quantum Model\n",
        "\n",
        "The model in this case is a quantum circit with one qubit (i.e. wire).\n",
        "The current model is inspered from the demo [Data-reuploading classifier](https://pennylane.ai/qml/demos/tutorial_data_reuploading_classifier/)."
      ]
    },
    {
      "cell_type": "code",
      "execution_count": 8,
      "metadata": {
        "id": "LwtARaNiBzHM"
      },
      "outputs": [],
      "source": [
        "# The circuit of the model uses only 1 qubit\n",
        "\n",
        "@qml.qnode(qml.device(\"lightning.qubit\", wires = 1))\n",
        "def circuit(params, x, y):\n",
        "\n",
        "  for i in range(len(params[0])):\n",
        "    # Perceptron\n",
        "    qml.Rot(*(params[0][i] * x + params[1][i]), wires=0)\n",
        "\n",
        "  return qml.expval(qml.Hermitian(y, wires=[0]))"
      ]
    },
    {
      "cell_type": "code",
      "execution_count": 9,
      "metadata": {
        "id": "xE8aclu2C0Cu",
        "colab": {
          "base_uri": "https://localhost:8080/",
          "height": 254
        },
        "outputId": "bc72f0ff-f230-448c-e558-85c0c2fe94c6"
      },
      "outputs": [
        {
          "output_type": "stream",
          "name": "stdout",
          "text": [
            "Expectation value:  0.5853897650697074\n"
          ]
        },
        {
          "output_type": "display_data",
          "data": {
            "text/plain": [
              "<Figure size 400x200 with 1 Axes>"
            ],
            "image/png": "[encoded data removed]"
          },
          "metadata": {}
        }
      ],
      "source": [
        "# Show the circuit for one node\n",
        "test_params = [\n",
        "    np.random.uniform(size=(1, 3), requires_grad=False),\n",
        "    np.random.uniform(size=(1, 3), requires_grad=False),\n",
        "    ]\n",
        "qml.draw_mpl(circuit, style='pennylane')(test_params, test_params[0][0], op_target[0])\n",
        "print('Expectation value: ', circuit(test_params, test_params[0][0], op_target[0]))\n",
        "\n",
        "del test_params"
      ]
    },
    {
      "cell_type": "markdown",
      "source": [
        "#Cost Function\n",
        "\n",
        "Here, the cost function is defined and it uses the quantum circuit to calculate the fidelities of the entries passed via input."
      ],
      "metadata": {
        "id": "EpOHtp4fW6IG"
      }
    },
    {
      "cell_type": "code",
      "execution_count": 10,
      "metadata": {
        "id": "waeeBxHTXb4e"
      },
      "outputs": [],
      "source": [
        "# Summing the fidelities for all the data points after passing through the circuit\n",
        "def cost(params, x, y):\n",
        "  loss = 0.0\n",
        "  for i in range(len(x)):\n",
        "    f = circuit(params, x[i], op_target[y[i]])\n",
        "    # Keep it simple\n",
        "    loss = loss + np.abs(1 - f)\n",
        "  return loss / len(x)"
      ]
    },
    {
      "cell_type": "code",
      "execution_count": 11,
      "metadata": {
        "id": "jCxjqN9svEyw"
      },
      "outputs": [],
      "source": [
        "# Predict the class of an input using parameters on the quantum circuit\n",
        "def predict(params, x):\n",
        "  fidelity_values = []\n",
        "  predicted = []\n",
        "\n",
        "  for i in range(len(x)):\n",
        "    fidelities = [circuit(params, x[i], t) for t in op_target]\n",
        "    best_fidel = np.argmax(fidelities)\n",
        "    predicted.append(best_fidel)\n",
        "    fidelity_values.append(fidelities)\n",
        "\n",
        "  return np.array(predicted), np.array(fidelity_values)"
      ]
    },
    {
      "cell_type": "markdown",
      "metadata": {
        "id": "Hg9wbBnWSbNm"
      },
      "source": [
        "# Training Loop\n",
        "\n",
        "The training loop that uses an optimazer to find best parameters."
      ]
    },
    {
      "cell_type": "code",
      "execution_count": 12,
      "metadata": {
        "id": "tpdkR2T-UVue"
      },
      "outputs": [],
      "source": [
        "# Training parameters\n",
        "num_nodes = 4\n",
        "learning_rate = 0.1\n",
        "epochs = 10\n",
        "batch_size = 2**3\n",
        "\n",
        "# Splitting data\n",
        "x_train, x_test, y_train, y_test = train_test_split(x_data, y_data, test_size=0.20, random_state=53)"
      ]
    },
    {
      "cell_type": "code",
      "source": [
        "# Initializing the optimizer\n",
        "opt = optz.AdamOptimizer(learning_rate)\n",
        "\n",
        "params = np.array([\n",
        "  np.random.uniform(size=(num_nodes, 3)), # Weights\n",
        "  np.random.uniform(size=(num_nodes, 3))  # Biais\n",
        "])"
      ],
      "metadata": {
        "id": "hWkaIr3Ay3Sv"
      },
      "execution_count": 13,
      "outputs": []
    },
    {
      "cell_type": "code",
      "execution_count": 14,
      "metadata": {
        "id": "Z6nzS8PbhhC-",
        "colab": {
          "base_uri": "https://localhost:8080/",
          "height": 248
        },
        "outputId": "93b47f45-c21a-45f3-ebf5-d9bc688271fd"
      },
      "outputs": [
        {
          "output_type": "stream",
          "name": "stdout",
          "text": [
            "Epoch:  1 | Loss: 0.314594 | Train accuracy: 0.787500 | Test accuracy: 0.900000\n",
            "Epoch:  2 | Loss: 0.104709 | Train accuracy: 1.000000 | Test accuracy: 1.000000\n",
            "Epoch:  3 | Loss: 0.034892 | Train accuracy: 1.000000 | Test accuracy: 1.000000\n",
            "Epoch:  4 | Loss: 0.017264 | Train accuracy: 1.000000 | Test accuracy: 1.000000\n",
            "Epoch:  5 | Loss: 0.004646 | Train accuracy: 1.000000 | Test accuracy: 1.000000\n",
            "Epoch:  6 | Loss: 0.004377 | Train accuracy: 1.000000 | Test accuracy: 1.000000\n",
            "Epoch:  7 | Loss: 0.002083 | Train accuracy: 1.000000 | Test accuracy: 1.000000\n",
            "Epoch:  8 | Loss: 0.000604 | Train accuracy: 1.000000 | Test accuracy: 1.000000\n",
            "Epoch:  9 | Loss: 0.000245 | Train accuracy: 1.000000 | Test accuracy: 1.000000\n",
            "Epoch: 10 | Loss: 0.000227 | Train accuracy: 1.000000 | Test accuracy: 1.000000\n"
          ]
        },
        {
          "output_type": "display_data",
          "data": {
            "text/plain": [
              "<IPython.core.display.HTML object>"
            ],
            "text/html": [
              "<h1>&#127881 Jackpot!</h1>"
            ]
          },
          "metadata": {}
        }
      ],
      "source": [
        "accuracy_train, accuracy_test = 0, 0\n",
        "\n",
        "# The training loop\n",
        "for e in range(epochs):\n",
        "\n",
        "  # Train the batch of the dataset\n",
        "  for idx in gen_batches(len(x_train), batch_size):\n",
        "      params, _, _= opt.step(cost, params, x_train[idx], y_train[idx])\n",
        "\n",
        "  # Get the predicted results using training dataset\n",
        "  predicted_train, fidel_train = predict(params, x_train)\n",
        "  accuracy_train = metrics.accuracy_score(y_train, predicted_train)\n",
        "\n",
        "  # Calculate the loss\n",
        "  loss = cost(params, x_train, y_train)\n",
        "\n",
        "  # Get the predicted results using testing dataset to compare the behaviour\n",
        "  # of the model on the training dataset and test dataset.\n",
        "  predicted_test, fidel_test = predict(params, x_test)\n",
        "  accuracy_test = metrics.accuracy_score(y_test, predicted_test)\n",
        "\n",
        "  # Print important information on the screen\n",
        "  res = [e + 1, loss, accuracy_train, accuracy_test]\n",
        "  print(\"Epoch: {:2d} | Loss: {:3f} | Train accuracy: {:3f} | Test accuracy: {:3f}\".format(*res))\n",
        "\n",
        "# Show an emoji if the accuracy of the training and testing is 100%\n",
        "if accuracy_train == 1 and accuracy_test == 1:\n",
        "    display(HTML('<h1>&#127881 Jackpot!</h1>'))"
      ]
    },
    {
      "cell_type": "code",
      "source": [
        "# Just predict all the element of the dataset at once\n",
        "x_data_prediction, x_data_fidels = predict(params, x_data)\n",
        "accuracy_x_data = metrics.accuracy_score(y_data, x_data_prediction)\n",
        "print('The accuracy of all dataset is:', accuracy_x_data)"
      ],
      "metadata": {
        "colab": {
          "base_uri": "https://localhost:8080/"
        },
        "id": "_lBBozwm9I-U",
        "outputId": "15a677d7-cc07-4319-874e-b778fde01aa9"
      },
      "execution_count": 15,
      "outputs": [
        {
          "output_type": "stream",
          "name": "stdout",
          "text": [
            "The accuracy of all dataset is: 1.0\n"
          ]
        }
      ]
    },
    {
      "cell_type": "code",
      "source": [],
      "metadata": {
        "id": "NLiIpdTjaZaq"
      },
      "execution_count": 15,
      "outputs": []
    }
  ],
  "metadata": {
    "colab": {
      "provenance": [],
      "authorship_tag": "ABX9TyNj6goJOycHM2kvT9CK5tfj",
      "include_colab_link": true
    },
    "kernelspec": {
      "display_name": "Python 3",
      "name": "python3"
    },
    "language_info": {
      "name": "python"
    }
  },
  "nbformat": 4,
  "nbformat_minor": 0
}